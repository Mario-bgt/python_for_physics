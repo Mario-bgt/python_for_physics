{
 "cells": [
  {
   "cell_type": "code",
   "execution_count": 50,
   "id": "d4d12028",
   "metadata": {},
   "outputs": [
    {
     "name": "stdout",
     "output_type": "stream",
     "text": [
      "Funktion:\n"
     ]
    },
    {
     "data": {
      "text/latex": [
       "$\\displaystyle f(g)=\\operatorname{atan}{\\left(\\frac{d_{m} - z_{0}}{x_{0}} \\right)}$"
      ],
      "text/plain": [
       "<IPython.core.display.Math object>"
      ]
     },
     "metadata": {},
     "output_type": "display_data"
    },
    {
     "name": "stdout",
     "output_type": "stream",
     "text": [
      "Messwerte:\n"
     ]
    },
    {
     "data": {
      "text/latex": [
       "$\\displaystyle z_0=1.9\\pm 0$"
      ],
      "text/plain": [
       "<IPython.core.display.Math object>"
      ]
     },
     "metadata": {},
     "output_type": "display_data"
    },
    {
     "data": {
      "text/latex": [
       "$\\displaystyle x_0=3.2\\pm 0.2$"
      ],
      "text/plain": [
       "<IPython.core.display.Math object>"
      ]
     },
     "metadata": {},
     "output_type": "display_data"
    },
    {
     "data": {
      "text/latex": [
       "$\\displaystyle d_m=7.4\\pm 0.4$"
      ],
      "text/plain": [
       "<IPython.core.display.Math object>"
      ]
     },
     "metadata": {},
     "output_type": "display_data"
    },
    {
     "name": "stdout",
     "output_type": "stream",
     "text": [
      "Absoluter Fehler:\n"
     ]
    },
    {
     "data": {
      "text/latex": [
       "$\\displaystyle \\Delta f=\\sqrt{\\frac{\\Delta \\Delta _{m}^{2} x_{0}^{2} + \\Delta x_{0}^{2} \\left(\\Delta _{m} - z_{0}\\right)^{2} + \\Delta z_{0}^{2} x_{0}^{2}}{\\left(x_{0}^{2} + \\left(\\Delta _{m} - z_{0}\\right)^{2}\\right)^{2}}}$"
      ],
      "text/plain": [
       "<IPython.core.display.Math object>"
      ]
     },
     "metadata": {},
     "output_type": "display_data"
    },
    {
     "name": "stdout",
     "output_type": "stream",
     "text": [
      "Relativer Fehler:\n"
     ]
    },
    {
     "data": {
      "text/latex": [
       "$\\displaystyle \\Delta f(g)/f(g)=\\sqrt{\\frac{\\Delta \\Delta _{m}^{2} x_{0}^{2} + \\Delta x_{0}^{2} \\left(\\Delta _{m} - z_{0}\\right)^{2} + \\Delta z_{0}^{2} x_{0}^{2}}{\\left(x_{0}^{2} + \\left(\\Delta _{m} - z_{0}\\right)^{2}\\right)^{2} \\operatorname{atan}^{2}{\\left(\\frac{\\Delta _{m} - z_{0}}{x_{0}} \\right)}}}$"
      ],
      "text/plain": [
       "<IPython.core.display.Math object>"
      ]
     },
     "metadata": {},
     "output_type": "display_data"
    },
    {
     "data": {
      "text/latex": [
       "$\\displaystyle f(g)=   1.04 \\pm   0.04$"
      ],
      "text/plain": [
       "<IPython.core.display.Math object>"
      ]
     },
     "metadata": {},
     "output_type": "display_data"
    },
    {
     "data": {
      "text/latex": [
       "$\\displaystyle f(g)=   1.04 \\pm    4.0  \\%$"
      ],
      "text/plain": [
       "<IPython.core.display.Math object>"
      ]
     },
     "metadata": {},
     "output_type": "display_data"
    }
   ],
   "source": [
    "import sympy as sp\n",
    "from IPython.display import display, Math, Latex\n",
    "import plotly as plt\n",
    "import numpy as np\n",
    "\n",
    "# Hier die Variablen deklarieren/ \"d\" ist reserviert und darf nicht verwendet werden\n",
    "z_0, x_0, d_m= sp.symbols('z_0, x_0, d_m')  # hier Eure Variablennamen einsetzen\n",
    "variablen = [z_0, x_0, d_m]  # hier Eure Variablennamen einsetzen\n",
    "# Zahlenwerte und Fehlerwerte\n",
    "variablen_werte = [1.9, 3.2, 7.4\n",
    "\n",
    "\n",
    "\n",
    "]  # Werte h=2.8, r=4.2, T=2.4 /hier Eure Werte einsetzen\n",
    "fehler_werte = [0, 0.2, 0.4 ]  # dito fuer die Fehler /hier Eure Werte einsetzen\n",
    "\n",
    "\"\"\"\"\n",
    "Hier die Funktion deklarieren\n",
    "Potenzen a hoch b: a**b\n",
    "bei Funktionen wie sin, sqrt, etc. den Namensraum \"sp\" vorransetzen z.B. sp.sin()\"\"\"\n",
    "funktion = sp.atan((d_m-z_0)/(x_0))\n",
    "\n",
    "fehler = 0\n",
    "fehlersymbole = []\n",
    "ableitungen_quadr = []\n",
    "\n",
    "for var in variablen:\n",
    "    d = sp.symbols('d' + var.name)  # Symbole fuer die Fehler generieren\n",
    "    fehlersymbole.append(d)  # Fehlersymbole in Liste eintragen\n",
    "    partial = sp.diff(funktion, var) * d  # Partielle Differentation und mit mit Fehlersymbol 'd' multiplizieren\n",
    "    ableitungen_quadr.append(partial ** 2)\n",
    "    fehler = fehler + partial ** 2\n",
    "\n",
    "fehler_abs = sp.simplify(sp.sqrt(fehler))  # Latex Format fuer den absoluten Fehler\n",
    "fehler_rel = sp.simplify(sp.sqrt(fehler / funktion ** 2))  # Latex Format fuer den relativen Fehler\n",
    "\n",
    "# Berechnung der Zahlenwerte\n",
    "funktions_wert = sp.Subs(funktion, variablen, variablen_werte).doit()  # Variablenwerte (Zahlen) in Formel einsetzen und\n",
    "# Funktionswert berechnen\n",
    "err1 = sp.Subs(fehler, variablen, variablen_werte).doit()  # Variablenwerte (Zahlen) in FehlerFormel einsetzen\n",
    "err2 = sp.Subs(err1, fehlersymbole, fehler_werte).doit()  # Variablenwerte (Zahlen) in FehlerFormel einsetzen und\n",
    "# Funktionswert berechnen\n",
    "\n",
    "# Latex Darstellungen als PDF drucken\n",
    "\n",
    "print('Funktion:')\n",
    "display(Math(\"f(g)=\" + sp.latex(funktion)))\n",
    "\n",
    "print('Messwerte:')\n",
    "for i in range(len(variablen)):\n",
    "    display(\n",
    "        Math(str(variablen[i]) + '=' + str(variablen_werte[i]) + '\\pm ' + str(fehler_werte[i])))  # Messwerte mit Fehler\n",
    "\n",
    "print('Absoluter Fehler:')\n",
    "display(Math(r'\\Delta f=' + sp.latex(fehler_abs).replace('d', r'\\Delta ')))  # Formel absoluter Fehler\n",
    "\n",
    "\n",
    "print('Relativer Fehler:')\n",
    "display(Math(r\"\\Delta f(g)/f(g)=\" + sp.latex(fehler_rel).replace('d', r'\\Delta ')))  # Formel relativer Fehler\n",
    "display(Math(\"f(g)= %6.2f \\pm %6.2f\" % (funktions_wert, sp.sqrt(err2))))  # Messwert und Wert des absoluten Fehler\n",
    "display(Math(\"f(g)= %6.2f \\pm %6.1f %s\" % (\n",
    "    funktions_wert, sp.sqrt(err2) / funktions_wert * 100, \" \\%\")))  # dito als relativer Fehler\n"
   ]
  },
  {
   "cell_type": "code",
   "execution_count": null,
   "id": "52a55e41",
   "metadata": {},
   "outputs": [],
   "source": []
  }
 ],
 "metadata": {
  "kernelspec": {
   "display_name": "Python 3",
   "language": "python",
   "name": "python3"
  },
  "language_info": {
   "codemirror_mode": {
    "name": "ipython",
    "version": 3
   },
   "file_extension": ".py",
   "mimetype": "text/x-python",
   "name": "python",
   "nbconvert_exporter": "python",
   "pygments_lexer": "ipython3",
   "version": "3.8.8"
  }
 },
 "nbformat": 4,
 "nbformat_minor": 5
}
