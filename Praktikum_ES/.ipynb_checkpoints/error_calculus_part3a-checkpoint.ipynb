{
 "cells": [
  {
   "cell_type": "code",
   "execution_count": 1,
   "id": "d4d12028",
   "metadata": {},
   "outputs": [
    {
     "name": "stdout",
     "output_type": "stream",
     "text": [
      "Funktion:\n"
     ]
    },
    {
     "data": {
      "text/latex": [
       "$\\displaystyle f(g)=\\frac{\\sqrt{2} x_{0}}{2 \\sqrt{\\frac{y_{r}}{g}}}$"
      ],
      "text/plain": [
       "<IPython.core.display.Math object>"
      ]
     },
     "metadata": {},
     "output_type": "display_data"
    },
    {
     "name": "stdout",
     "output_type": "stream",
     "text": [
      "Messwerte:\n"
     ]
    },
    {
     "data": {
      "text/latex": [
       "$\\displaystyle x_0=18\\pm 0.5$"
      ],
      "text/plain": [
       "<IPython.core.display.Math object>"
      ]
     },
     "metadata": {},
     "output_type": "display_data"
    },
    {
     "data": {
      "text/latex": [
       "$\\displaystyle y_r=10.5\\pm 0.2$"
      ],
      "text/plain": [
       "<IPython.core.display.Math object>"
      ]
     },
     "metadata": {},
     "output_type": "display_data"
    },
    {
     "data": {
      "text/latex": [
       "$\\displaystyle g=9.81\\pm 0$"
      ],
      "text/plain": [
       "<IPython.core.display.Math object>"
      ]
     },
     "metadata": {},
     "output_type": "display_data"
    },
    {
     "name": "stdout",
     "output_type": "stream",
     "text": [
      "Absoluter Fehler:\n"
     ]
    },
    {
     "data": {
      "text/latex": [
       "$\\displaystyle \\Delta f=\\frac{\\sqrt{2} \\sqrt{\\frac{\\frac{\\Delta g^{2} x_{0}^{2}}{g} + 4 \\Delta x_{0}^{2} g + \\frac{\\Delta y_{r}^{2} g x_{0}^{2}}{y_{r}^{2}}}{y_{r}}}}{4}$"
      ],
      "text/plain": [
       "<IPython.core.display.Math object>"
      ]
     },
     "metadata": {},
     "output_type": "display_data"
    },
    {
     "name": "stdout",
     "output_type": "stream",
     "text": [
      "Relativer Fehler:\n"
     ]
    },
    {
     "data": {
      "text/latex": [
       "$\\displaystyle \\Delta f(g)/f(g)=\\frac{\\sqrt{\\frac{\\Delta g^{2}}{g^{2}} + \\frac{4 \\Delta x_{0}^{2}}{x_{0}^{2}} + \\frac{\\Delta y_{r}^{2}}{y_{r}^{2}}}}{2}$"
      ],
      "text/plain": [
       "<IPython.core.display.Math object>"
      ]
     },
     "metadata": {},
     "output_type": "display_data"
    },
    {
     "data": {
      "text/latex": [
       "$\\displaystyle f(g)=  12.30 \\pm   0.36$"
      ],
      "text/plain": [
       "<IPython.core.display.Math object>"
      ]
     },
     "metadata": {},
     "output_type": "display_data"
    },
    {
     "data": {
      "text/latex": [
       "$\\displaystyle f(g)=  12.30 \\pm    2.9  \\%$"
      ],
      "text/plain": [
       "<IPython.core.display.Math object>"
      ]
     },
     "metadata": {},
     "output_type": "display_data"
    }
   ],
   "source": [
    "import sympy as sp\n",
    "from IPython.display import display, Math, Latex\n",
    "import plotly as plt\n",
    "import numpy as np\n",
    "\n",
    "# Hier die Variablen deklarieren/ \"d\" ist reserviert und darf nicht verwendet werden\n",
    "x_0, y_r, g= sp.symbols('x_0, y_r, g')  # hier Eure Variablennamen einsetzen\n",
    "variablen = [x_0, y_r, g]  # hier Eure Variablennamen einsetzen\n",
    "# Zahlenwerte und Fehlerwerte\n",
    "variablen_werte = [18, 10.5, 9.81 ]  # Werte h=2.8, r=4.2, T=2.4 /hier Eure Werte einsetzen\n",
    "fehler_werte = [0.5, 0.2, 0 ]  # dito fuer die Fehler /hier Eure Werte einsetzen\n",
    "\n",
    "\"\"\"\"\n",
    "Hier die Funktion deklarieren\n",
    "Potenzen a hoch b: a**b\n",
    "bei Funktionen wie sin, sqrt, etc. den Namensraum \"sp\" vorransetzen z.B. sp.sin()\"\"\"\n",
    "funktion = x_0/sp.sqrt((2*y_r)/g)\n",
    "\n",
    "fehler = 0\n",
    "fehlersymbole = []\n",
    "ableitungen_quadr = []\n",
    "\n",
    "for var in variablen:\n",
    "    d = sp.symbols('d' + var.name)  # Symbole fuer die Fehler generieren\n",
    "    fehlersymbole.append(d)  # Fehlersymbole in Liste eintragen\n",
    "    partial = sp.diff(funktion, var) * d  # Partielle Differentation und mit mit Fehlersymbol 'd' multiplizieren\n",
    "    ableitungen_quadr.append(partial ** 2)\n",
    "    fehler = fehler + partial ** 2\n",
    "\n",
    "fehler_abs = sp.simplify(sp.sqrt(fehler))  # Latex Format fuer den absoluten Fehler\n",
    "fehler_rel = sp.simplify(sp.sqrt(fehler / funktion ** 2))  # Latex Format fuer den relativen Fehler\n",
    "\n",
    "# Berechnung der Zahlenwerte\n",
    "funktions_wert = sp.Subs(funktion, variablen, variablen_werte).doit()  # Variablenwerte (Zahlen) in Formel einsetzen und\n",
    "# Funktionswert berechnen\n",
    "err1 = sp.Subs(fehler, variablen, variablen_werte).doit()  # Variablenwerte (Zahlen) in FehlerFormel einsetzen\n",
    "err2 = sp.Subs(err1, fehlersymbole, fehler_werte).doit()  # Variablenwerte (Zahlen) in FehlerFormel einsetzen und\n",
    "# Funktionswert berechnen\n",
    "\n",
    "# Latex Darstellungen als PDF drucken\n",
    "\n",
    "print('Funktion:')\n",
    "display(Math(\"f(g)=\" + sp.latex(funktion)))\n",
    "\n",
    "print('Messwerte:')\n",
    "for i in range(len(variablen)):\n",
    "    display(\n",
    "        Math(str(variablen[i]) + '=' + str(variablen_werte[i]) + '\\pm ' + str(fehler_werte[i])))  # Messwerte mit Fehler\n",
    "\n",
    "print('Absoluter Fehler:')\n",
    "display(Math(r'\\Delta f=' + sp.latex(fehler_abs).replace('d', r'\\Delta ')))  # Formel absoluter Fehler\n",
    "\n",
    "\n",
    "print('Relativer Fehler:')\n",
    "display(Math(r\"\\Delta f(g)/f(g)=\" + sp.latex(fehler_rel).replace('d', r'\\Delta ')))  # Formel relativer Fehler\n",
    "display(Math(\"f(g)= %6.2f \\pm %6.2f\" % (funktions_wert, sp.sqrt(err2))))  # Messwert und Wert des absoluten Fehler\n",
    "display(Math(\"f(g)= %6.2f \\pm %6.1f %s\" % (\n",
    "    funktions_wert, sp.sqrt(err2) / funktions_wert * 100, \" \\%\")))  # dito als relativer Fehler\n"
   ]
  },
  {
   "cell_type": "code",
   "execution_count": null,
   "id": "52a55e41",
   "metadata": {},
   "outputs": [],
   "source": []
  }
 ],
 "metadata": {
  "kernelspec": {
   "display_name": "Python 3",
   "language": "python",
   "name": "python3"
  },
  "language_info": {
   "codemirror_mode": {
    "name": "ipython",
    "version": 3
   },
   "file_extension": ".py",
   "mimetype": "text/x-python",
   "name": "python",
   "nbconvert_exporter": "python",
   "pygments_lexer": "ipython3",
   "version": "3.8.8"
  }
 },
 "nbformat": 4,
 "nbformat_minor": 5
}
