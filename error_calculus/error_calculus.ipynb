{
 "cells": [
  {
   "cell_type": "code",
   "execution_count": 24,
   "id": "d4d12028",
   "metadata": {},
   "outputs": [
    {
     "name": "stdout",
     "output_type": "stream",
     "text": [
      "Funktion:\n"
     ]
    },
    {
     "data": {
      "text/latex": [
       "$\\displaystyle f(g)=\\frac{8 \\pi^{2} U}{B^{2} d^{2}}$"
      ],
      "text/plain": [
       "<IPython.core.display.Math object>"
      ]
     },
     "metadata": {},
     "output_type": "display_data"
    },
    {
     "name": "stdout",
     "output_type": "stream",
     "text": [
      "Messwerte:\n"
     ]
    },
    {
     "data": {
      "text/latex": [
       "$\\displaystyle B=0.00075\\pm 3.8e-05$"
      ],
      "text/plain": [
       "<IPython.core.display.Math object>"
      ]
     },
     "metadata": {},
     "output_type": "display_data"
    },
    {
     "data": {
      "text/latex": [
       "$\\displaystyle d=0.075\\pm 0.002$"
      ],
      "text/plain": [
       "<IPython.core.display.Math object>"
      ]
     },
     "metadata": {},
     "output_type": "display_data"
    },
    {
     "data": {
      "text/latex": [
       "$\\displaystyle U=600\\pm 2$"
      ],
      "text/plain": [
       "<IPython.core.display.Math object>"
      ]
     },
     "metadata": {},
     "output_type": "display_data"
    },
    {
     "name": "stdout",
     "output_type": "stream",
     "text": [
      "Absoluter Fehler:\n"
     ]
    },
    {
     "data": {
      "text/latex": [
       "$\\displaystyle \\Delta f=8 \\pi^{2} \\sqrt{\\frac{4 B^{2} U^{2} \\Delta \\Delta ^{2} + B^{2} \\Delta ^{2} \\Delta U^{2} + 4 U^{2} \\Delta ^{2} \\Delta B^{2}}{B^{6} \\Delta ^{6}}}$"
      ],
      "text/plain": [
       "<IPython.core.display.Math object>"
      ]
     },
     "metadata": {},
     "output_type": "display_data"
    },
    {
     "name": "stdout",
     "output_type": "stream",
     "text": [
      "Relativer Fehler:\n"
     ]
    },
    {
     "data": {
      "text/latex": [
       "$\\displaystyle \\Delta f(g)/f(g)=\\sqrt{\\frac{4 \\Delta \\Delta ^{2}}{\\Delta ^{2}} + \\frac{\\Delta U^{2}}{U^{2}} + \\frac{4 \\Delta B^{2}}{B^{2}}}$"
      ],
      "text/plain": [
       "<IPython.core.display.Math object>"
      ]
     },
     "metadata": {},
     "output_type": "display_data"
    },
    {
     "data": {
      "text/latex": [
       "$\\displaystyle f(g)=   1.50 \\pm   0.17\\cdot10^{11}$"
      ],
      "text/plain": [
       "<IPython.core.display.Math object>"
      ]
     },
     "metadata": {},
     "output_type": "display_data"
    },
    {
     "data": {
      "text/latex": [
       "$\\displaystyle f(g)= 14972555417356.30 \\pm   11.5  \\%$"
      ],
      "text/plain": [
       "<IPython.core.display.Math object>"
      ]
     },
     "metadata": {},
     "output_type": "display_data"
    }
   ],
   "source": [
    "import sympy as sp\n",
    "from IPython.display import display, Math, Latex\n",
    "import plotly as plt\n",
    "import numpy as np\n",
    "\n",
    "# Hier die Variablen deklarieren/ \"d\" ist reserviert und darf nicht verwendet werden\n",
    "B, d, U = sp.symbols('B d U')  # hier Eure Variablennamen einsetzen\n",
    "variablen = [B, d, U]  # hier Eure Variablennamen einsetzen\n",
    "# Zahlenwerte und Fehlerwerte\n",
    "variablen_werte = [7.5*10**(-4),0.075, 600]  # Werte h=2.8, r=4.2, T=2.4 /hier Eure Werte einsetzen\n",
    "fehler_werte = [0.38*10**(-4),0.002, 2]  # dito fuer die Fehler /hier Eure Werte einsetzen\n",
    "\n",
    "funktion = (U*8*sp.pi**2)/((B**2)*(d**2))\n",
    "\n",
    "fehler = 0\n",
    "fehlersymbole = []\n",
    "ableitungen_quadr = []\n",
    "\n",
    "for var in variablen:\n",
    "    d = sp.symbols('d' + var.name)  # Symbole fuer die Fehler generieren\n",
    "    fehlersymbole.append(d)  # Fehlersymbole in Liste eintragen\n",
    "    partial = sp.diff(funktion, var) * d  # Partielle Differentation und mit mit Fehlersymbol 'd' multiplizieren\n",
    "    ableitungen_quadr.append(partial ** 2)\n",
    "    fehler = fehler + partial ** 2\n",
    "\n",
    "fehler_abs = sp.simplify(sp.sqrt(fehler))  # Latex Format fuer den absoluten Fehler\n",
    "fehler_rel = sp.simplify(sp.sqrt(fehler / funktion ** 2))  # Latex Format fuer den relativen Fehler\n",
    "\n",
    "# Berechnung der Zahlenwerte\n",
    "funktions_wert = sp.Subs(funktion, variablen, variablen_werte).doit()  # Variablenwerte (Zahlen) in Formel einsetzen und\n",
    "# Funktionswert berechnen\n",
    "err1 = sp.Subs(fehler, variablen, variablen_werte).doit()  # Variablenwerte (Zahlen) in FehlerFormel einsetzen\n",
    "err2 = sp.Subs(err1, fehlersymbole, fehler_werte).doit()  # Variablenwerte (Zahlen) in FehlerFormel einsetzen und\n",
    "# Funktionswert berechnen\n",
    "\n",
    "# Latex Darstellungen als PDF drucken\n",
    "\n",
    "print('Funktion:')\n",
    "display(Math(\"f(g)=\" + sp.latex(funktion)))\n",
    "\n",
    "print('Messwerte:')\n",
    "for i in range(len(variablen)):\n",
    "    display(\n",
    "        Math(str(variablen[i]) + '=' + str(variablen_werte[i]) + '\\pm ' + str(fehler_werte[i])))  # Messwerte mit Fehler\n",
    "\n",
    "print('Absoluter Fehler:')\n",
    "display(Math(r'\\Delta f=' + sp.latex(fehler_abs).replace('d', r'\\Delta ')))  # Formel absoluter Fehler\n",
    "\n",
    "\n",
    "print('Relativer Fehler:')\n",
    "display(Math(r\"\\Delta f(g)/f(g)=\" + sp.latex(fehler_rel).replace('d', r'\\Delta ')))  # Formel relativer Fehler\n",
    "display(Math(\"f(g)= %6.2f \\pm %6.2f\\cdot10^{11}\" % (funktions_wert*0.0000000000001, sp.sqrt(err2)*0.0000000000001)))  # Messwert und Wert des absoluten Fehler\n",
    "display(Math(\"f(g)= %6.2f \\pm %6.1f %s\" % (\n",
    "    funktions_wert, sp.sqrt(err2) / funktions_wert * 100, \" \\%\")))  # dito als relativer Fehler\n"
   ]
  },
  {
   "cell_type": "code",
   "execution_count": null,
   "id": "52a55e41",
   "metadata": {},
   "outputs": [],
   "source": []
  },
  {
   "cell_type": "code",
   "execution_count": null,
   "id": "c56ab2ea",
   "metadata": {},
   "outputs": [],
   "source": []
  }
 ],
 "metadata": {
  "kernelspec": {
   "display_name": "Python 3",
   "language": "python",
   "name": "python3"
  },
  "language_info": {
   "codemirror_mode": {
    "name": "ipython",
    "version": 3
   },
   "file_extension": ".py",
   "mimetype": "text/x-python",
   "name": "python",
   "nbconvert_exporter": "python",
   "pygments_lexer": "ipython3",
   "version": "3.8.8"
  }
 },
 "nbformat": 4,
 "nbformat_minor": 5
}
