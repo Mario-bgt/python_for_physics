{
 "cells": [
  {
   "cell_type": "code",
   "execution_count": 2,
   "id": "cf78e022",
   "metadata": {},
   "outputs": [],
   "source": [
    "import numpy as np\n",
    "from uncertainties import ufloat, ufloat_fromstr"
   ]
  },
  {
   "cell_type": "code",
   "execution_count": 3,
   "id": "930006a7",
   "metadata": {},
   "outputs": [
    {
     "name": "stdout",
     "output_type": "stream",
     "text": [
      "[1.0+/-0.01, 1.0+/-0.01, 1.0+/-0.01, 1.0+/-0.01] summe =  4.000+/-0.020\n",
      "[1.0+/-0.01, 1.0+/-0.01, 1.0+/-0.01, 1.0+/-0.01] summe =  4.00+/-0.04\n"
     ]
    }
   ],
   "source": [
    "# voneinander abhängige Werte da alle einträge in der \n",
    "# liste auf den selben Wert zeigen.\n",
    "wert = ufloat(1, 0.01)\n",
    "abhängig = [wert, wert, wert, wert]\n",
    "\n",
    "# erstelle ein ufloat pro eintrag, unabhängige Werte\n",
    "unabhängig = [ufloat(1, 0.01),\n",
    "              ufloat(1, 0.01),\n",
    "              ufloat(1, 0.01),\n",
    "              ufloat(1, 0.01)]\n",
    "\n",
    "# erst in der Summe ist der unterschied zwischen \n",
    "# abhängigen und unabhängigen werten sichtbar.\n",
    "\n",
    "print(unabhängig,\"summe = \", np.sum(unabhängig))\n",
    "print(abhängig,  \"summe = \", np.sum(abhängig))"
   ]
  },
  {
   "cell_type": "code",
   "execution_count": 4,
   "id": "3d8ced9c",
   "metadata": {},
   "outputs": [
    {
     "name": "stdout",
     "output_type": "stream",
     "text": [
      "1.000+/-0.005 1.000+/-0.010\n"
     ]
    }
   ],
   "source": [
    "# die Unsicherheit des Mittelwerts wird nur bei\n",
    "# unabhängigen werten kleiner.\n",
    "print(np.mean(unabhängig), np.mean(abhängig))"
   ]
  },
  {
   "cell_type": "code",
   "execution_count": 5,
   "id": "4625e4ad",
   "metadata": {},
   "outputs": [
    {
     "name": "stdout",
     "output_type": "stream",
     "text": [
      "Fläche ist 3.00(20)x4.00(20) = 12.0(1.0)\n"
     ]
    }
   ],
   "source": [
    "# hier noch, wie fehler in der Kurznotation dargestelt werden können.\n",
    "L, H = ufloat_fromstr(\"3.0(2)\"), ufloat_fromstr(\"4.0(2)\")\n",
    "\n",
    "print(f\"Fläche ist {L:S}x{H:S} = {L*H:S}\")"
   ]
  },
  {
   "cell_type": "markdown",
   "id": "7b6f4609",
   "metadata": {},
   "source": [
    "m_g, m_p, l, a = ufloat_fromstr(\"0.015(1)\"), ufloat_fromstr(\"18.0(1)\"), ufloat_fromstr(\"1.20(1)\"), ufloat_fromstr(\"0,06981317(0,00872665)\")\n"
   ]
  },
  {
   "cell_type": "code",
   "execution_count": 9,
   "id": "ff6fa2cc",
   "metadata": {},
   "outputs": [],
   "source": [
    "m_g, m_p, l, a = ufloat_fromstr(\"0.015(1)\"), ufloat_fromstr(\"18.0(1)\"), ufloat_fromstr(\"1.20(1)\"), ufloat_fromstr(\"0.0698(87)\")\n",
    "\n",
    "print(f\"Die Geschwindigkeit der Kugel ist: {2}x{np.sq}\")"
   ]
  },
  {
   "cell_type": "code",
   "execution_count": null,
   "id": "39d48861",
   "metadata": {},
   "outputs": [],
   "source": []
  }
 ],
 "metadata": {
  "kernelspec": {
   "display_name": "Python 3",
   "language": "python",
   "name": "python3"
  },
  "language_info": {
   "codemirror_mode": {
    "name": "ipython",
    "version": 3
   },
   "file_extension": ".py",
   "mimetype": "text/x-python",
   "name": "python",
   "nbconvert_exporter": "python",
   "pygments_lexer": "ipython3",
   "version": "3.8.8"
  }
 },
 "nbformat": 4,
 "nbformat_minor": 5
}
