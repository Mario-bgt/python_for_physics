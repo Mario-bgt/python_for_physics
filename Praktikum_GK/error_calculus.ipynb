{
 "cells": [
  {
   "cell_type": "code",
   "execution_count": 11,
   "id": "d4d12028",
   "metadata": {},
   "outputs": [
    {
     "name": "stdout",
     "output_type": "stream",
     "text": [
      "Funktion:\n"
     ]
    },
    {
     "data": {
      "text/latex": [
       "$\\displaystyle f(g)=\\frac{25000000000000000000 m_{S} m_{d} m_{r}^{2} \\left(\\frac{1}{m_{\\tau}^{2}} + \\frac{4 \\pi^{2}}{m_{t}^{2}}\\right)}{m_{L} m_{M}}$"
      ],
      "text/plain": [
       "<IPython.core.display.Math object>"
      ]
     },
     "metadata": {},
     "output_type": "display_data"
    },
    {
     "name": "stdout",
     "output_type": "stream",
     "text": [
      "Messwerte:\n"
     ]
    },
    {
     "data": {
      "text/latex": [
       "$\\displaystyle m_t=627\\pm 15.159$"
      ],
      "text/plain": [
       "<IPython.core.display.Math object>"
      ]
     },
     "metadata": {},
     "output_type": "display_data"
    },
    {
     "data": {
      "text/latex": [
       "$\\displaystyle m_tau=-284.69\\pm 21.442$"
      ],
      "text/plain": [
       "<IPython.core.display.Math object>"
      ]
     },
     "metadata": {},
     "output_type": "display_data"
    },
    {
     "data": {
      "text/latex": [
       "$\\displaystyle m_r=0.047\\pm 0.0004$"
      ],
      "text/plain": [
       "<IPython.core.display.Math object>"
      ]
     },
     "metadata": {},
     "output_type": "display_data"
    },
    {
     "data": {
      "text/latex": [
       "$\\displaystyle m_d=0.05\\pm 0.0002$"
      ],
      "text/plain": [
       "<IPython.core.display.Math object>"
      ]
     },
     "metadata": {},
     "output_type": "display_data"
    },
    {
     "data": {
      "text/latex": [
       "$\\displaystyle m_S=0.179\\pm 0.0799$"
      ],
      "text/plain": [
       "<IPython.core.display.Math object>"
      ]
     },
     "metadata": {},
     "output_type": "display_data"
    },
    {
     "data": {
      "text/latex": [
       "$\\displaystyle m_M=1.5\\pm 0.002$"
      ],
      "text/plain": [
       "<IPython.core.display.Math object>"
      ]
     },
     "metadata": {},
     "output_type": "display_data"
    },
    {
     "data": {
      "text/latex": [
       "$\\displaystyle m_L=5.38\\pm 0.01$"
      ],
      "text/plain": [
       "<IPython.core.display.Math object>"
      ]
     },
     "metadata": {},
     "output_type": "display_data"
    },
    {
     "name": "stdout",
     "output_type": "stream",
     "text": [
      "Absoluter Fehler:\n"
     ]
    },
    {
     "data": {
      "text/latex": [
       "$\\displaystyle \\Delta f=25000000000000000000 \\sqrt{\\frac{m_{r}^{2} \\left(\\Delta m_{L}^{2} m_{M}^{2} m_{S}^{2} m_{\\Delta }^{2} m_{r}^{2} m_{t}^{2} m_{\\tau}^{2} \\left(m_{t}^{2} + 4 \\pi^{2} m_{\\tau}^{2}\\right)^{2} + \\Delta m_{M}^{2} m_{L}^{2} m_{S}^{2} m_{\\Delta }^{2} m_{r}^{2} m_{t}^{2} m_{\\tau}^{2} \\left(m_{t}^{2} + 4 \\pi^{2} m_{\\tau}^{2}\\right)^{2} + 64 \\pi^{4} \\Delta m_{t}^{2} m_{L}^{2} m_{M}^{2} m_{S}^{2} m_{\\Delta }^{2} m_{r}^{2} m_{\\tau}^{6} + 4 \\Delta m_{\\tau}^{2} m_{L}^{2} m_{M}^{2} m_{S}^{2} m_{\\Delta }^{2} m_{r}^{2} m_{t}^{6} + m_{L}^{2} m_{M}^{2} m_{t}^{2} m_{\\tau}^{2} \\left(m_{t}^{2} + 4 \\pi^{2} m_{\\tau}^{2}\\right)^{2} \\left(\\Delta m_{S}^{2} m_{\\Delta }^{2} m_{r}^{2} + \\Delta m_{\\Delta }^{2} m_{S}^{2} m_{r}^{2} + 4 \\Delta m_{r}^{2} m_{S}^{2} m_{\\Delta }^{2}\\right)\\right)}{m_{L}^{4} m_{M}^{4} m_{t}^{6} m_{\\tau}^{6}}}$"
      ],
      "text/plain": [
       "<IPython.core.display.Math object>"
      ]
     },
     "metadata": {},
     "output_type": "display_data"
    },
    {
     "name": "stdout",
     "output_type": "stream",
     "text": [
      "Relativer Fehler:\n"
     ]
    },
    {
     "data": {
      "text/latex": [
       "$\\displaystyle \\Delta f(g)/f(g)=\\sqrt{\\frac{\\Delta m_{L}^{2}}{m_{L}^{2}} + \\frac{\\Delta m_{M}^{2}}{m_{M}^{2}} + \\frac{\\Delta m_{S}^{2}}{m_{S}^{2}} + \\frac{\\Delta m_{\\Delta }^{2}}{m_{\\Delta }^{2}} + \\frac{4 \\Delta m_{r}^{2}}{m_{r}^{2}} + \\frac{64 \\pi^{4} \\Delta m_{t}^{2} m_{\\tau}^{4}}{m_{t}^{2} \\left(m_{t}^{2} + 4 \\pi^{2} m_{\\tau}^{2}\\right)^{2}} + \\frac{4 \\Delta m_{\\tau}^{2} m_{t}^{4}}{m_{\\tau}^{2} \\left(m_{t}^{2} + 4 \\pi^{2} m_{\\tau}^{2}\\right)^{2}}}$"
      ],
      "text/plain": [
       "<IPython.core.display.Math object>"
      ]
     },
     "metadata": {},
     "output_type": "display_data"
    },
    {
     "data": {
      "text/latex": [
       "$\\displaystyle f(g)= 6906177312.54 \\pm 3101497202.14$"
      ],
      "text/plain": [
       "<IPython.core.display.Math object>"
      ]
     },
     "metadata": {},
     "output_type": "display_data"
    },
    {
     "data": {
      "text/latex": [
       "$\\displaystyle f(g)= 6906177312.54 \\pm   44.9  \\%$"
      ],
      "text/plain": [
       "<IPython.core.display.Math object>"
      ]
     },
     "metadata": {},
     "output_type": "display_data"
    }
   ],
   "source": [
    "import sympy as sp\n",
    "from IPython.display import display, Math, Latex\n",
    "import plotly as plt\n",
    "import numpy as np\n",
    "\n",
    "# Hier werden die Variablen deklariert \\ \"d\" ist reserviert und darf nicht verwendet werden\n",
    "m_t, m_tau, m_r, m_d, m_S, m_M, m_L = sp.symbols('m_t m_tau m_r m_d m_S m_M m_L')  \n",
    "variablen = [m_t, m_tau, m_r, m_d, m_S, m_M, m_L]  # hier werden Variablennamen eingesetzt\n",
    "# Zahlenwerte und Fehlerwerte\n",
    "variablen_werte = [627, -284.69, 0.047, 0.05, 0.179, 1.5, 5.38]  # Werte bsp. h=2.8, r=4.2, T=2.4 \n",
    "fehler_werte = [15.159, 21.442, 0.0004, 0.0002, 0.0799, 0.002, 0.01 ]  # dito fuer die Fehler \n",
    "\n",
    "\"\"\"\"\n",
    "Hier wird die Funktion deklariert\n",
    "Potenzen a hoch b: a**b\n",
    "bei Funktionen wie sin, sqrt, etc. den Namensraum \"sp\" vorransetzen z.B. sp.sin()\n",
    "fuer mehr info sympy package googeln\"\"\"\n",
    "funktion = sp.Pow(10,20)*(((4*sp.Pow(sp.pi,2)/sp.Pow(m_t,2))+(1)/(sp.Pow(m_tau,2)))*sp.Pow(m_r,2)*m_d*m_S)/(4*m_M*m_L)\n",
    "\n",
    "fehler = 0\n",
    "fehlersymbole = []\n",
    "ableitungen_quadr = []\n",
    "\n",
    "for var in variablen:\n",
    "    d = sp.symbols('d' + var.name)  # Symbole fuer die Fehler generieren\n",
    "    fehlersymbole.append(d)  # Fehlersymbole in Liste eintragen\n",
    "    partial = sp.diff(funktion, var) * d  # Partielle Differentation und mit Fehlersymbol 'd' multiplizieren\n",
    "    ableitungen_quadr.append(partial ** 2)\n",
    "    fehler = fehler + partial ** 2\n",
    "\n",
    "fehler_abs = sp.simplify(sp.sqrt(fehler))  # Latex Format fuer den absoluten Fehler\n",
    "fehler_rel = sp.simplify(sp.sqrt(fehler / funktion ** 2))  # Latex Format fuer den relativen Fehler\n",
    "\n",
    "# Berechnung der Zahlenwerte\n",
    "funktions_wert = sp.Subs(funktion, variablen, variablen_werte).doit()  # Variablenwerte (Zahlen) in Formel einsetzen und\n",
    "# Funktionswert berechnen\n",
    "err1 = sp.Subs(fehler, variablen, variablen_werte).doit()  # Variablenwerte (Zahlen) in FehlerFormel einsetzen\n",
    "err2 = sp.Subs(err1, fehlersymbole, fehler_werte).doit()  # Variablenwerte (Zahlen) in FehlerFormel einsetzen und\n",
    "# Funktionswert berechnen\n",
    "\n",
    "# Latex Darstellungen als PDF drucken\n",
    "\n",
    "print('Funktion:')\n",
    "display(Math(\"f(g)=\" + sp.latex(funktion)))\n",
    "\n",
    "print('Messwerte:')\n",
    "for i in range(len(variablen)):\n",
    "    display(\n",
    "        Math(str(variablen[i]) + '=' + str(variablen_werte[i]) + '\\pm ' + str(fehler_werte[i])))  # Messwerte mit Fehler\n",
    "\n",
    "print('Absoluter Fehler:')\n",
    "display(Math(r'\\Delta f=' + sp.latex(fehler_abs).replace('d', r'\\Delta ')))  # Formel absoluter Fehler\n",
    "\n",
    "\n",
    "print('Relativer Fehler:')\n",
    "display(Math(r\"\\Delta f(g)/f(g)=\" + sp.latex(fehler_rel).replace('d', r'\\Delta ')))  # Formel relativer Fehler\n",
    "display(Math(\"f(g)= %6.2f \\pm %6.2f\" % (funktions_wert, sp.sqrt(err2))))  # Messwert und Wert des absoluten Fehler\n",
    "display(Math(\"f(g)= %6.2f \\pm %6.1f %s\" % (\n",
    "    funktions_wert, sp.sqrt(err2) / funktions_wert * 100, \" \\%\")))  # dito als relativer Fehler\n"
   ]
  },
  {
   "cell_type": "code",
   "execution_count": null,
   "id": "52a55e41",
   "metadata": {},
   "outputs": [],
   "source": []
  }
 ],
 "metadata": {
  "kernelspec": {
   "display_name": "Python 3",
   "language": "python",
   "name": "python3"
  },
  "language_info": {
   "codemirror_mode": {
    "name": "ipython",
    "version": 3
   },
   "file_extension": ".py",
   "mimetype": "text/x-python",
   "name": "python",
   "nbconvert_exporter": "python",
   "pygments_lexer": "ipython3",
   "version": "3.8.8"
  }
 },
 "nbformat": 4,
 "nbformat_minor": 5
}
