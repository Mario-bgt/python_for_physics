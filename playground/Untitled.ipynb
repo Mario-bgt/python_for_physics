{
 "cells": [
  {
   "cell_type": "code",
   "execution_count": 3,
   "id": "ba65f2a5",
   "metadata": {},
   "outputs": [
    {
     "name": "stdout",
     "output_type": "stream",
     "text": [
      "{'Server': 'nginx/1.10.3 (Ubuntu)', 'Date': 'Thu, 09 Dec 2021 23:53:47 GMT', 'Content-Type': 'text/html; charset=UTF-8', 'Content-Length': '108', 'Connection': 'keep-alive', 'Set-Cookie': 'qfq=ktl3c0c0q7f0p71ij2linjtg7b; expires=Sun, 12-Dec-2021 23:53:47 GMT; Max-Age=259200; path=/; HttpOnly, qfq=ktl3c0c0q7f0p71ij2linjtg7b; expires=Sun, 12-Dec-2021 23:53:47 GMT; Max-Age=259200; path=/; HttpOnly', 'Expires': 'Thu, 19 Nov 1981 08:52:00 GMT', 'Cache-Control': 'no-store, no-cache, must-revalidate', 'Pragma': 'no-cache', 'Vary': 'Accept-Encoding', 'Content-Encoding': 'gzip', 'Access-Control-Allow-Origin': 'user.math.uzh.ch', 'Access-Control-Allow-Headers': 'origin, x-requested-with, content-type', 'Access-Control-Allow-Methods': 'GET,POST,PUT'}\n",
      "b\"Exception: SIP '61b15b754bef7' not registered - please reload the previous site and try again.\"\n",
      "Exception: SIP '61b15b754bef7' not registered - please reload the previous site and try again.\n"
     ]
    }
   ],
   "source": [
    "import requests\n",
    "\n",
    "\"\"\"valid = https://www.math.uzh.ch/typo3conf/ext/qfq/Classes/Api/download.php?s=61b15b754bfb2 \n",
    "\n",
    "invalid = https://www.math.uzh.ch/typo3conf/ext/qfq/Classes/Api/download.php?s=61ae88c6e8518 \n",
    "\"\"\"\n",
    "\n",
    "url = 'http://www.math.uzh.ch/typo3conf/ext/qfq/Classes/Api/download.php?s=61b15b754bef7'\n",
    "\n",
    "r = requests.get(url)\n",
    "print(r.headers)\n",
    "print(r.content)\n",
    "print(r.text)\n"
   ]
  },
  {
   "cell_type": "code",
   "execution_count": null,
   "id": "f504084d",
   "metadata": {},
   "outputs": [],
   "source": []
  }
 ],
 "metadata": {
  "kernelspec": {
   "display_name": "Python 3",
   "language": "python",
   "name": "python3"
  },
  "language_info": {
   "codemirror_mode": {
    "name": "ipython",
    "version": 3
   },
   "file_extension": ".py",
   "mimetype": "text/x-python",
   "name": "python",
   "nbconvert_exporter": "python",
   "pygments_lexer": "ipython3",
   "version": "3.8.8"
  }
 },
 "nbformat": 4,
 "nbformat_minor": 5
}
